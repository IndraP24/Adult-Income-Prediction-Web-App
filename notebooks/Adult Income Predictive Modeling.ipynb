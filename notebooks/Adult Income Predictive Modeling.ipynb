{
 "cells": [
  {
   "cell_type": "markdown",
   "id": "2a61abd6",
   "metadata": {},
   "source": [
    "# Import libraries"
   ]
  },
  {
   "cell_type": "code",
   "execution_count": 1,
   "id": "83cbe708",
   "metadata": {},
   "outputs": [],
   "source": [
    "import json\n",
    "import numpy as np\n",
    "import pandas as pd\n",
    "from sklearn.model_selection import train_test_split\n",
    "from sklearn.preprocessing import LabelEncoder\n",
    "from sklearn.ensemble import RandomForestClassifier, ExtraTreesClassifier\n",
    "import joblib"
   ]
  },
  {
   "cell_type": "markdown",
   "id": "98fefe4b",
   "metadata": {},
   "source": [
    "# Load Data"
   ]
  },
  {
   "cell_type": "code",
   "execution_count": 12,
   "id": "374ca132",
   "metadata": {},
   "outputs": [
    {
     "output_type": "stream",
     "name": "stdout",
     "text": [
      "(32561, 14) (32561,)\n"
     ]
    },
    {
     "output_type": "execute_result",
     "data": {
      "text/plain": [
       "   age         workclass  fnlwgt  education  education-num  \\\n",
       "0   39         State-gov   77516  Bachelors             13   \n",
       "1   50  Self-emp-not-inc   83311  Bachelors             13   \n",
       "2   38           Private  215646    HS-grad              9   \n",
       "3   53           Private  234721       11th              7   \n",
       "4   28           Private  338409  Bachelors             13   \n",
       "\n",
       "       marital-status         occupation   relationship   race     sex  \\\n",
       "0       Never-married       Adm-clerical  Not-in-family  White    Male   \n",
       "1  Married-civ-spouse    Exec-managerial        Husband  White    Male   \n",
       "2            Divorced  Handlers-cleaners  Not-in-family  White    Male   \n",
       "3  Married-civ-spouse  Handlers-cleaners        Husband  Black    Male   \n",
       "4  Married-civ-spouse     Prof-specialty           Wife  Black  Female   \n",
       "\n",
       "   capital-gain  capital-loss  hours-per-week native-country income  \n",
       "0          2174             0              40  United-States  <=50K  \n",
       "1             0             0              13  United-States  <=50K  \n",
       "2             0             0              40  United-States  <=50K  \n",
       "3             0             0              40  United-States  <=50K  \n",
       "4             0             0              40           Cuba  <=50K  "
      ],
      "text/html": "<div>\n<style scoped>\n    .dataframe tbody tr th:only-of-type {\n        vertical-align: middle;\n    }\n\n    .dataframe tbody tr th {\n        vertical-align: top;\n    }\n\n    .dataframe thead th {\n        text-align: right;\n    }\n</style>\n<table border=\"1\" class=\"dataframe\">\n  <thead>\n    <tr style=\"text-align: right;\">\n      <th></th>\n      <th>age</th>\n      <th>workclass</th>\n      <th>fnlwgt</th>\n      <th>education</th>\n      <th>education-num</th>\n      <th>marital-status</th>\n      <th>occupation</th>\n      <th>relationship</th>\n      <th>race</th>\n      <th>sex</th>\n      <th>capital-gain</th>\n      <th>capital-loss</th>\n      <th>hours-per-week</th>\n      <th>native-country</th>\n      <th>income</th>\n    </tr>\n  </thead>\n  <tbody>\n    <tr>\n      <th>0</th>\n      <td>39</td>\n      <td>State-gov</td>\n      <td>77516</td>\n      <td>Bachelors</td>\n      <td>13</td>\n      <td>Never-married</td>\n      <td>Adm-clerical</td>\n      <td>Not-in-family</td>\n      <td>White</td>\n      <td>Male</td>\n      <td>2174</td>\n      <td>0</td>\n      <td>40</td>\n      <td>United-States</td>\n      <td>&lt;=50K</td>\n    </tr>\n    <tr>\n      <th>1</th>\n      <td>50</td>\n      <td>Self-emp-not-inc</td>\n      <td>83311</td>\n      <td>Bachelors</td>\n      <td>13</td>\n      <td>Married-civ-spouse</td>\n      <td>Exec-managerial</td>\n      <td>Husband</td>\n      <td>White</td>\n      <td>Male</td>\n      <td>0</td>\n      <td>0</td>\n      <td>13</td>\n      <td>United-States</td>\n      <td>&lt;=50K</td>\n    </tr>\n    <tr>\n      <th>2</th>\n      <td>38</td>\n      <td>Private</td>\n      <td>215646</td>\n      <td>HS-grad</td>\n      <td>9</td>\n      <td>Divorced</td>\n      <td>Handlers-cleaners</td>\n      <td>Not-in-family</td>\n      <td>White</td>\n      <td>Male</td>\n      <td>0</td>\n      <td>0</td>\n      <td>40</td>\n      <td>United-States</td>\n      <td>&lt;=50K</td>\n    </tr>\n    <tr>\n      <th>3</th>\n      <td>53</td>\n      <td>Private</td>\n      <td>234721</td>\n      <td>11th</td>\n      <td>7</td>\n      <td>Married-civ-spouse</td>\n      <td>Handlers-cleaners</td>\n      <td>Husband</td>\n      <td>Black</td>\n      <td>Male</td>\n      <td>0</td>\n      <td>0</td>\n      <td>40</td>\n      <td>United-States</td>\n      <td>&lt;=50K</td>\n    </tr>\n    <tr>\n      <th>4</th>\n      <td>28</td>\n      <td>Private</td>\n      <td>338409</td>\n      <td>Bachelors</td>\n      <td>13</td>\n      <td>Married-civ-spouse</td>\n      <td>Prof-specialty</td>\n      <td>Wife</td>\n      <td>Black</td>\n      <td>Female</td>\n      <td>0</td>\n      <td>0</td>\n      <td>40</td>\n      <td>Cuba</td>\n      <td>&lt;=50K</td>\n    </tr>\n  </tbody>\n</table>\n</div>"
     },
     "metadata": {},
     "execution_count": 12
    }
   ],
   "source": [
    "# load dataset\n",
    "df = pd.read_csv('https://raw.githubusercontent.com/pplonski/datasets-for-start/master/adult/data.csv', skipinitialspace=True)\n",
    "x_cols = [c for c in df.columns if c !='income']\n",
    "\n",
    "X = df[x_cols]\n",
    "y = df['income']\n",
    "\n",
    "print(X.shape, y.shape)\n",
    "df.head()"
   ]
  },
  {
   "cell_type": "code",
   "execution_count": 17,
   "id": "791be80c",
   "metadata": {},
   "outputs": [],
   "source": [
    "X_train, X_test, y_train, y_test = train_test_split(X, y, test_size=0.3, random_state=42)"
   ]
  },
  {
   "cell_type": "markdown",
   "id": "f34dfb7a",
   "metadata": {},
   "source": [
    "# Data Preprocessing"
   ]
  },
  {
   "cell_type": "markdown",
   "id": "4300b7d5",
   "metadata": {},
   "source": [
    "## 1. Fill Null values"
   ]
  },
  {
   "cell_type": "code",
   "execution_count": 18,
   "id": "cdb19841",
   "metadata": {},
   "outputs": [
    {
     "output_type": "stream",
     "name": "stdout",
     "text": [
      "{'age': 28, 'workclass': 'Private', 'fnlwgt': 203488, 'education': 'HS-grad', 'education-num': 9, 'marital-status': 'Married-civ-spouse', 'occupation': 'Prof-specialty', 'relationship': 'Husband', 'race': 'White', 'sex': 'Male', 'capital-gain': 0, 'capital-loss': 0, 'hours-per-week': 40, 'native-country': 'United-States'}\n"
     ]
    }
   ],
   "source": [
    "train_mode = dict(X_train.mode().iloc[0])\n",
    "X_train = X_train.fillna(train_mode)\n",
    "X_test = X_test.fillna(train_mode)\n",
    "print(train_mode)"
   ]
  },
  {
   "cell_type": "markdown",
   "id": "1adf47a9",
   "metadata": {},
   "source": [
    "## 2. Convert categorical to numerical"
   ]
  },
  {
   "cell_type": "code",
   "execution_count": 5,
   "id": "71cb104f",
   "metadata": {},
   "outputs": [
    {
     "output_type": "execute_result",
     "data": {
      "text/plain": [
       "Index(['age', 'workclass', 'fnlwgt', 'education', 'education-num',\n",
       "       'marital-status', 'occupation', 'relationship', 'race', 'sex',\n",
       "       'capital-gain', 'capital-loss', 'hours-per-week', 'native-country'],\n",
       "      dtype='object')"
      ]
     },
     "metadata": {},
     "execution_count": 5
    }
   ],
   "source": [
    "X_train.columns"
   ]
  },
  {
   "cell_type": "code",
   "execution_count": 19,
   "id": "5ee42c0d",
   "metadata": {},
   "outputs": [],
   "source": [
    "encoders = {}\n",
    "for column in ['workclass', 'education','marital-status', 'occupation', 'relationship', 'race', 'sex', 'native-country']:\n",
    "    enc = LabelEncoder()\n",
    "    X_train[column] = enc.fit_transform(X_train[column])\n",
    "    X_test[column] = enc.transform(X_test[column])\n",
    "    encoders[column] = enc"
   ]
  },
  {
   "cell_type": "code",
   "execution_count": 20,
   "metadata": {},
   "outputs": [
    {
     "output_type": "execute_result",
     "data": {
      "text/plain": [
       "       age  workclass  fnlwgt  education  education-num  marital-status  \\\n",
       "19749   34          5   56460         11              9               2   \n",
       "1216    48          5  243631         15             10               2   \n",
       "27962   23          6   56402         15             10               2   \n",
       "23077   56          1  255406         11              9               0   \n",
       "10180   17          3  297246          1              7               4   \n",
       "...    ...        ...     ...        ...            ...             ...   \n",
       "29802   47          3  359461          9             13               2   \n",
       "5390    31          3  147215          2              8               0   \n",
       "860     18          3  216284          1              7               4   \n",
       "15795   50          5   54261         11              9               2   \n",
       "23654   34          4  127651          9             13               0   \n",
       "\n",
       "       occupation  relationship  race  sex  capital-gain  capital-loss  \\\n",
       "19749           4             5     4    0             0          2179   \n",
       "1216            2             0     0    1          7688             0   \n",
       "27962           9             0     4    1             0             0   \n",
       "23077           3             1     4    0             0             0   \n",
       "10180           8             3     4    0             0             0   \n",
       "...           ...           ...   ...  ...           ...           ...   \n",
       "29802           2             0     4    1             0             0   \n",
       "5390            7             4     4    0             0             0   \n",
       "860             0             3     4    0             0             0   \n",
       "15795           4             0     4    1             0             0   \n",
       "23654           4             1     4    1             0             0   \n",
       "\n",
       "       hours-per-week  native-country  \n",
       "19749              12              38  \n",
       "1216               40              38  \n",
       "27962              30              38  \n",
       "23077              40              38  \n",
       "10180               9              38  \n",
       "...               ...             ...  \n",
       "29802              40              38  \n",
       "5390               21              38  \n",
       "860                20              38  \n",
       "15795              84              38  \n",
       "23654              60              38  \n",
       "\n",
       "[22792 rows x 14 columns]"
      ],
      "text/html": "<div>\n<style scoped>\n    .dataframe tbody tr th:only-of-type {\n        vertical-align: middle;\n    }\n\n    .dataframe tbody tr th {\n        vertical-align: top;\n    }\n\n    .dataframe thead th {\n        text-align: right;\n    }\n</style>\n<table border=\"1\" class=\"dataframe\">\n  <thead>\n    <tr style=\"text-align: right;\">\n      <th></th>\n      <th>age</th>\n      <th>workclass</th>\n      <th>fnlwgt</th>\n      <th>education</th>\n      <th>education-num</th>\n      <th>marital-status</th>\n      <th>occupation</th>\n      <th>relationship</th>\n      <th>race</th>\n      <th>sex</th>\n      <th>capital-gain</th>\n      <th>capital-loss</th>\n      <th>hours-per-week</th>\n      <th>native-country</th>\n    </tr>\n  </thead>\n  <tbody>\n    <tr>\n      <th>19749</th>\n      <td>34</td>\n      <td>5</td>\n      <td>56460</td>\n      <td>11</td>\n      <td>9</td>\n      <td>2</td>\n      <td>4</td>\n      <td>5</td>\n      <td>4</td>\n      <td>0</td>\n      <td>0</td>\n      <td>2179</td>\n      <td>12</td>\n      <td>38</td>\n    </tr>\n    <tr>\n      <th>1216</th>\n      <td>48</td>\n      <td>5</td>\n      <td>243631</td>\n      <td>15</td>\n      <td>10</td>\n      <td>2</td>\n      <td>2</td>\n      <td>0</td>\n      <td>0</td>\n      <td>1</td>\n      <td>7688</td>\n      <td>0</td>\n      <td>40</td>\n      <td>38</td>\n    </tr>\n    <tr>\n      <th>27962</th>\n      <td>23</td>\n      <td>6</td>\n      <td>56402</td>\n      <td>15</td>\n      <td>10</td>\n      <td>2</td>\n      <td>9</td>\n      <td>0</td>\n      <td>4</td>\n      <td>1</td>\n      <td>0</td>\n      <td>0</td>\n      <td>30</td>\n      <td>38</td>\n    </tr>\n    <tr>\n      <th>23077</th>\n      <td>56</td>\n      <td>1</td>\n      <td>255406</td>\n      <td>11</td>\n      <td>9</td>\n      <td>0</td>\n      <td>3</td>\n      <td>1</td>\n      <td>4</td>\n      <td>0</td>\n      <td>0</td>\n      <td>0</td>\n      <td>40</td>\n      <td>38</td>\n    </tr>\n    <tr>\n      <th>10180</th>\n      <td>17</td>\n      <td>3</td>\n      <td>297246</td>\n      <td>1</td>\n      <td>7</td>\n      <td>4</td>\n      <td>8</td>\n      <td>3</td>\n      <td>4</td>\n      <td>0</td>\n      <td>0</td>\n      <td>0</td>\n      <td>9</td>\n      <td>38</td>\n    </tr>\n    <tr>\n      <th>...</th>\n      <td>...</td>\n      <td>...</td>\n      <td>...</td>\n      <td>...</td>\n      <td>...</td>\n      <td>...</td>\n      <td>...</td>\n      <td>...</td>\n      <td>...</td>\n      <td>...</td>\n      <td>...</td>\n      <td>...</td>\n      <td>...</td>\n      <td>...</td>\n    </tr>\n    <tr>\n      <th>29802</th>\n      <td>47</td>\n      <td>3</td>\n      <td>359461</td>\n      <td>9</td>\n      <td>13</td>\n      <td>2</td>\n      <td>2</td>\n      <td>0</td>\n      <td>4</td>\n      <td>1</td>\n      <td>0</td>\n      <td>0</td>\n      <td>40</td>\n      <td>38</td>\n    </tr>\n    <tr>\n      <th>5390</th>\n      <td>31</td>\n      <td>3</td>\n      <td>147215</td>\n      <td>2</td>\n      <td>8</td>\n      <td>0</td>\n      <td>7</td>\n      <td>4</td>\n      <td>4</td>\n      <td>0</td>\n      <td>0</td>\n      <td>0</td>\n      <td>21</td>\n      <td>38</td>\n    </tr>\n    <tr>\n      <th>860</th>\n      <td>18</td>\n      <td>3</td>\n      <td>216284</td>\n      <td>1</td>\n      <td>7</td>\n      <td>4</td>\n      <td>0</td>\n      <td>3</td>\n      <td>4</td>\n      <td>0</td>\n      <td>0</td>\n      <td>0</td>\n      <td>20</td>\n      <td>38</td>\n    </tr>\n    <tr>\n      <th>15795</th>\n      <td>50</td>\n      <td>5</td>\n      <td>54261</td>\n      <td>11</td>\n      <td>9</td>\n      <td>2</td>\n      <td>4</td>\n      <td>0</td>\n      <td>4</td>\n      <td>1</td>\n      <td>0</td>\n      <td>0</td>\n      <td>84</td>\n      <td>38</td>\n    </tr>\n    <tr>\n      <th>23654</th>\n      <td>34</td>\n      <td>4</td>\n      <td>127651</td>\n      <td>9</td>\n      <td>13</td>\n      <td>0</td>\n      <td>4</td>\n      <td>1</td>\n      <td>4</td>\n      <td>1</td>\n      <td>0</td>\n      <td>0</td>\n      <td>60</td>\n      <td>38</td>\n    </tr>\n  </tbody>\n</table>\n<p>22792 rows × 14 columns</p>\n</div>"
     },
     "metadata": {},
     "execution_count": 20
    }
   ],
   "source": [
    "X_train"
   ]
  },
  {
   "cell_type": "markdown",
   "id": "58ae33b5",
   "metadata": {},
   "source": [
    "# Model Training"
   ]
  },
  {
   "cell_type": "markdown",
   "id": "a6fb1338",
   "metadata": {},
   "source": [
    "## 1. Random Forest Model"
   ]
  },
  {
   "cell_type": "code",
   "execution_count": 21,
   "id": "0e3a9234",
   "metadata": {},
   "outputs": [],
   "source": [
    "rf = RandomForestClassifier(n_estimators=200)\n",
    "rf = rf.fit(X_train, y_train)"
   ]
  },
  {
   "cell_type": "code",
   "execution_count": 22,
   "metadata": {},
   "outputs": [
    {
     "output_type": "execute_result",
     "data": {
      "text/plain": [
       "0.8566895280990889"
      ]
     },
     "metadata": {},
     "execution_count": 22
    }
   ],
   "source": [
    "rf.score(X_test, y_test)"
   ]
  },
  {
   "cell_type": "markdown",
   "id": "264a2581",
   "metadata": {},
   "source": [
    "## 2. Extra Tress Model"
   ]
  },
  {
   "cell_type": "code",
   "execution_count": 23,
   "id": "2284f19c",
   "metadata": {},
   "outputs": [],
   "source": [
    "et = ExtraTreesClassifier(n_estimators=200)\n",
    "et = et.fit(X_train, y_train)"
   ]
  },
  {
   "cell_type": "code",
   "execution_count": 25,
   "metadata": {},
   "outputs": [
    {
     "output_type": "execute_result",
     "data": {
      "text/plain": [
       "0.8459412427065206"
      ]
     },
     "metadata": {},
     "execution_count": 25
    }
   ],
   "source": [
    "et.score(X_test, y_test)"
   ]
  },
  {
   "cell_type": "markdown",
   "id": "cdd3e359",
   "metadata": {},
   "source": [
    "## Save Preprocessing Objects and Trained Models"
   ]
  },
  {
   "cell_type": "code",
   "execution_count": 26,
   "id": "ed1b50dd",
   "metadata": {},
   "outputs": [
    {
     "output_type": "execute_result",
     "data": {
      "text/plain": [
       "['../artifacts/extra_trees.joblib']"
      ]
     },
     "metadata": {},
     "execution_count": 26
    }
   ],
   "source": [
    "joblib.dump(train_mode, \"../artifacts/train_mode.joblib\", compress=True)\n",
    "joblib.dump(encoders, \"../artifacts/encoders.joblib\", compress=True)\n",
    "joblib.dump(rf, \"../artifacts/random_forest.joblib\", compress=True)\n",
    "joblib.dump(et, \"../artifacts/extra_trees.joblib\", compress=True)"
   ]
  }
 ],
 "metadata": {
  "kernelspec": {
   "display_name": "venv",
   "language": "python",
   "name": "venv"
  },
  "language_info": {
   "codemirror_mode": {
    "name": "ipython",
    "version": 3
   },
   "file_extension": ".py",
   "mimetype": "text/x-python",
   "name": "python",
   "nbconvert_exporter": "python",
   "pygments_lexer": "ipython3",
   "version": "3.8.5"
  }
 },
 "nbformat": 4,
 "nbformat_minor": 5
}